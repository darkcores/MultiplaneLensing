{
 "cells": [
  {
   "cell_type": "markdown",
   "metadata": {},
   "source": [
    "API Reference calculations (for some unit tests)"
   ]
  },
  {
   "cell_type": "code",
   "execution_count": 1,
   "metadata": {},
   "outputs": [],
   "source": [
    "## %matplotlib inline\n",
    "import grale.images as images\n",
    "import grale.lenses as lenses\n",
    "import grale.cosmology as cosmology\n",
    "import grale.plotutil as plotutil\n",
    "import grale.multiplane as multiplane\n",
    "import grale.renderers as renderers\n",
    "import grale.feedback as feedback\n",
    "from grale.constants import *\n",
    "import numpy as np\n",
    "import matplotlib.pyplot as plt\n",
    "\n",
    "cosm = cosmology.Cosmology(0.7, 0.3, 0, 0.7)\n",
    "D = cosm.getAngularDiameterDistance\n",
    "cosmology.setDefaultCosmology(cosm)\n",
    "\n",
    "V = lambda x,y: np.array([x,y], dtype=np.double)\n",
    "\n",
    "plotutil.setDefaultAngularUnit(ANGLE_ARCSEC)\n",
    "renderers.setDefaultLensPlaneRenderer(\"threads\")\n",
    "feedback.setDefaultFeedback(\"notebook\")"
   ]
  },
  {
   "cell_type": "code",
   "execution_count": 2,
   "metadata": {},
   "outputs": [],
   "source": [
    "z_d1 = 1.5\n",
    "z_d2 = 2.3\n",
    "z_s1 = 2.0\n",
    "z_s2 = 2.7"
   ]
  },
  {
   "cell_type": "code",
   "execution_count": 30,
   "metadata": {},
   "outputs": [],
   "source": [
    "def getLens(zd):\n",
    "    compLensParams = [ ]\n",
    "    Dd = D(zd)\n",
    "    plummer = lenses.PlummerLens(Dd, { \"width\": 30 * ANGLE_ARCSEC, \"mass\": 1e13 * MASS_SUN * 11})\n",
    "    compLensParams.append({\n",
    "        \"lens\": plummer,\n",
    "        \"factor\": 1,\n",
    "        \"angle\": 0,\n",
    "        \"x\": 0 * ANGLE_ARCSEC,\n",
    "        \"y\": 0 * ANGLE_ARCSEC\n",
    "    })\n",
    "    return lenses.CompositeLens(Dd, compLensParams)"
   ]
  },
  {
   "cell_type": "code",
   "execution_count": 31,
   "metadata": {},
   "outputs": [],
   "source": [
    "lens1 = getLens(z_d1)\n",
    "lens2 = getLens(z_d2)"
   ]
  },
  {
   "cell_type": "code",
   "execution_count": 48,
   "metadata": {},
   "outputs": [],
   "source": [
    "lensInfo = plotutil.LensInfo(lens=[\n",
    "                                    (lens1, z_d1), \n",
    "                                    (lens2, z_d2)\n",
    "                                  ], zs=z_s2, size=60*ANGLE_ARCSEC)"
   ]
  },
  {
   "cell_type": "code",
   "execution_count": 43,
   "metadata": {},
   "outputs": [
    {
     "name": "stdout",
     "output_type": "stream",
     "text": [
      "EXPECT_LT(fabs(beta0[0].x() - 0.000000), 1e-6);\n",
      "EXPECT_LT(fabs(beta0[0].y() - 0.000000), 1e-6);\n",
      "EXPECT_LT(fabs(beta0[1].x() - 0.910380), 1e-6);\n",
      "EXPECT_LT(fabs(beta0[1].y() - 0.910380), 1e-6);\n",
      "EXPECT_LT(fabs(beta0[2].x() - 1.821944), 1e-6);\n",
      "EXPECT_LT(fabs(beta0[2].y() - 1.821944), 1e-6);\n",
      "EXPECT_LT(fabs(beta0[3].x() - 2.735825), 1e-6);\n",
      "EXPECT_LT(fabs(beta0[3].y() - 2.735825), 1e-6);\n",
      "EXPECT_LT(fabs(beta0[4].x() - 3.653057), 1e-6);\n",
      "EXPECT_LT(fabs(beta0[4].y() - 3.653057), 1e-6);\n",
      "EXPECT_LT(fabs(beta0[5].x() - 4.574539), 1e-6);\n",
      "EXPECT_LT(fabs(beta0[5].y() - 4.574539), 1e-6);\n",
      "EXPECT_LT(fabs(beta0[6].x() - 5.501002), 1e-6);\n",
      "EXPECT_LT(fabs(beta0[6].y() - 5.501002), 1e-6);\n",
      "EXPECT_LT(fabs(beta0[7].x() - 6.433003), 1e-6);\n",
      "EXPECT_LT(fabs(beta0[7].y() - 6.433003), 1e-6);\n",
      "EXPECT_LT(fabs(beta0[8].x() - 7.370913), 1e-6);\n",
      "EXPECT_LT(fabs(beta0[8].y() - 7.370913), 1e-6);\n",
      "EXPECT_LT(fabs(beta0[9].x() - 8.314935), 1e-6);\n",
      "EXPECT_LT(fabs(beta0[9].y() - 8.314935), 1e-6);\n"
     ]
    }
   ],
   "source": [
    "for i in range(10):\n",
    "    theta = [i * ANGLE_ARCSEC, i * ANGLE_ARCSEC]\n",
    "    beta = lens1.traceTheta(D(z_s1), D(z_d1, z_s1), theta) / ANGLE_ARCSEC \n",
    "    print(\"EXPECT_LT(fabs(beta0[%i].x() - %f), 1e-6);\" % (i, beta[0]))\n",
    "    print(\"EXPECT_LT(fabs(beta0[%i].y() - %f), 1e-6);\" % (i, beta[1]))"
   ]
  },
  {
   "cell_type": "code",
   "execution_count": 34,
   "metadata": {},
   "outputs": [
    {
     "data": {
      "text/plain": [
       "0.9103795668263756"
      ]
     },
     "execution_count": 34,
     "metadata": {},
     "output_type": "execute_result"
    }
   ],
   "source": [
    "4.41364469e-06 / ANGLE_ARCSEC"
   ]
  },
  {
   "cell_type": "code",
   "execution_count": 35,
   "metadata": {},
   "outputs": [
    {
     "data": {
      "text/plain": [
       "4.84813681109536e-06"
      ]
     },
     "execution_count": 35,
     "metadata": {},
     "output_type": "execute_result"
    }
   ],
   "source": [
    "1 * ANGLE_ARCSEC"
   ]
  },
  {
   "cell_type": "code",
   "execution_count": 52,
   "metadata": {},
   "outputs": [
    {
     "name": "stdout",
     "output_type": "stream",
     "text": [
      "EXPECT_LT(fabs(beta1[0].x() - 0.000000), 1.25e-6);\n",
      "EXPECT_LT(fabs(beta1[0].y() - 0.000000), 1.25e-6);\n",
      "EXPECT_LT(fabs(beta1[1].x() - 0.836022), 1.25e-6);\n",
      "EXPECT_LT(fabs(beta1[1].y() - 0.836022), 1.25e-6);\n",
      "EXPECT_LT(fabs(beta1[2].x() - 1.674018), 1.25e-6);\n",
      "EXPECT_LT(fabs(beta1[2].y() - 1.674018), 1.25e-6);\n",
      "EXPECT_LT(fabs(beta1[3].x() - 2.515884), 1.25e-6);\n",
      "EXPECT_LT(fabs(beta1[3].y() - 2.515884), 1.25e-6);\n",
      "EXPECT_LT(fabs(beta1[4].x() - 3.363376), 1.25e-6);\n",
      "EXPECT_LT(fabs(beta1[4].y() - 3.363376), 1.25e-6);\n",
      "EXPECT_LT(fabs(beta1[5].x() - 4.218047), 1.25e-6);\n",
      "EXPECT_LT(fabs(beta1[5].y() - 4.218047), 1.25e-6);\n",
      "EXPECT_LT(fabs(beta1[6].x() - 5.081204), 1.25e-6);\n",
      "EXPECT_LT(fabs(beta1[6].y() - 5.081204), 1.25e-6);\n",
      "EXPECT_LT(fabs(beta1[7].x() - 5.953879), 1.25e-6);\n",
      "EXPECT_LT(fabs(beta1[7].y() - 5.953879), 1.25e-6);\n",
      "EXPECT_LT(fabs(beta1[8].x() - 6.836822), 1.25e-6);\n",
      "EXPECT_LT(fabs(beta1[8].y() - 6.836822), 1.25e-6);\n",
      "EXPECT_LT(fabs(beta1[9].x() - 7.730499), 1.25e-6);\n",
      "EXPECT_LT(fabs(beta1[9].y() - 7.730499), 1.25e-6);\n"
     ]
    }
   ],
   "source": [
    "for i in range(10):\n",
    "    theta = [i * ANGLE_ARCSEC, i * ANGLE_ARCSEC]\n",
    "    beta = lens1.traceTheta(D(z_d2), D(z_d1, z_d2), theta)\n",
    "    beta = lens2.traceTheta(D(z_s2), D(z_d2, z_s2), beta) / ANGLE_ARCSEC \n",
    "    print(\"EXPECT_LT(fabs(beta1[%i].x() - %f), 1.25e-6);\" % (i, beta[0]))\n",
    "    print(\"EXPECT_LT(fabs(beta1[%i].y() - %f), 1.25e-6);\" % (i, beta[1]))"
   ]
  },
  {
   "cell_type": "markdown",
   "metadata": {},
   "source": [
    "# Sample input file\n",
    "\n",
    "Generate sample input file for the example application.\n",
    "\n",
    "This can also be used to generate new test cases.\n",
    "\n",
    "TODO: Verification values would be good\n",
    "A script to generate some would be nice"
   ]
  },
  {
   "cell_type": "code",
   "execution_count": 78,
   "metadata": {},
   "outputs": [],
   "source": [
    "import random\n",
    "fp = open(\"input_data.txt\", \"w\")\n",
    "\n",
    "# Write angularUnit\n",
    "fp.write(str(ANGLE_ARCSEC) + \"\\n\")\n",
    "\n",
    "# Write redshifts for lenses\n",
    "# Number of redshifts\n",
    "numlensplanes = 7\n",
    "fp.write(str(numlensplanes) + \"\\n\")\n",
    "for i in range(numlensplanes):\n",
    "    fp.write(str(random.uniform(0.5, 10.0)) + \" \")\n",
    "\n",
    "# Write lens data\n",
    "# X, Y, width\n",
    "lensesperplane = []\n",
    "for i in range(numlensplanes):\n",
    "    numlenses = random.randint(1000, 5000)\n",
    "    lensesperplane.append(numlenses)\n",
    "    fp.write(\"\\n\" + str(numlenses) + \"\\n\")\n",
    "    for j in range(numlenses):\n",
    "        fp.write(str(random.uniform(-30.0, 30.0)) + \" \")\n",
    "        fp.write(str(random.uniform(-30.0, 30.0)) + \" \")\n",
    "        fp.write(str(random.randint(20, 40)) + \" \")\n",
    "fp.write(\"\\n\")\n",
    "\n",
    "# Source plane redshifts\n",
    "numsrcplanes = 5\n",
    "fp.write(str(numsrcplanes) + \"\\n\")\n",
    "for i in range(numsrcplanes):\n",
    "    fp.write(str(random.uniform(0.5, 10.0)) + \" \")\n",
    "fp.write(\"\\n\")\n",
    "    \n",
    "# Write thetas\n",
    "numthetas = 1000 * 1000\n",
    "fp.write(str(numthetas) + \"\\n\")\n",
    "for y in range(-500, 500, 1):\n",
    "    for x in range(-500, 500, 1):\n",
    "        fp.write(str(x / 15) + \" \" + str(y / 15) + \" \")\n",
    "fp.write(\"\\n\")\n",
    "\n",
    "# Write masses\n",
    "# fp.write(str(numlensplanes) + \"\\n\")\n",
    "for x in lensesperplane:\n",
    "    fp.write(str(x) + \"\\n\")\n",
    "    for i in range(x):\n",
    "        randmass = 1e13 * MASS_SUN * random.uniform(0.5, 8.0)\n",
    "        fp.write(str(randmass) + \" \")\n",
    "    fp.write(\"\\n\")\n",
    "\n",
    "    \n",
    "fp.close()"
   ]
  },
  {
   "cell_type": "code",
   "execution_count": null,
   "metadata": {},
   "outputs": [],
   "source": []
  }
 ],
 "metadata": {
  "kernelspec": {
   "display_name": "Python 3",
   "language": "python",
   "name": "python3"
  },
  "language_info": {
   "codemirror_mode": {
    "name": "ipython",
    "version": 3
   },
   "file_extension": ".py",
   "mimetype": "text/x-python",
   "name": "python",
   "nbconvert_exporter": "python",
   "pygments_lexer": "ipython3",
   "version": "3.7.2"
  }
 },
 "nbformat": 4,
 "nbformat_minor": 2
}
