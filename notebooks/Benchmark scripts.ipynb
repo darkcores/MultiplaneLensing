{
 "cells": [
  {
   "cell_type": "markdown",
   "metadata": {},
   "source": [
    "# Outline\n",
    "\n",
    "1. Some scripts to generate the test cases\n",
    "2. Scripts to run the tests with grale\n",
    "3. Maybe something to show visuals?"
   ]
  },
  {
   "cell_type": "markdown",
   "metadata": {},
   "source": [
    "# Setup & helpers"
   ]
  },
  {
   "cell_type": "code",
   "execution_count": 1,
   "metadata": {},
   "outputs": [],
   "source": [
    "%matplotlib inline\n",
    "import grale.images as images\n",
    "import grale.lenses as lenses\n",
    "import grale.cosmology as cosmology\n",
    "import grale.plotutil as plotutil\n",
    "import grale.multiplane as multiplane\n",
    "import grale.renderers as renderers\n",
    "import grale.feedback as feedback\n",
    "from grale.constants import *\n",
    "import numpy as np\n",
    "import matplotlib.pyplot as plt\n",
    "\n",
    "cosm = cosmology.Cosmology(0.7, 0.3, 0, 0.7)\n",
    "D = cosm.getAngularDiameterDistance\n",
    "cosmology.setDefaultCosmology(cosm)\n",
    "\n",
    "V = lambda x,y: np.array([x,y], dtype=np.double)\n",
    "\n",
    "plotutil.setDefaultAngularUnit(ANGLE_ARCSEC)\n",
    "renderers.setDefaultLensPlaneRenderer(\"threads\")\n",
    "feedback.setDefaultFeedback(\"notebook\")"
   ]
  },
  {
   "cell_type": "code",
   "execution_count": 2,
   "metadata": {},
   "outputs": [],
   "source": [
    "z_d = [0.5, 1.0, 1.5, 2.0, 2.5, 2.6, 2.7, 2.8, 2.9]\n",
    "z_s = [3]"
   ]
  },
  {
   "cell_type": "code",
   "execution_count": 3,
   "metadata": {},
   "outputs": [],
   "source": [
    "def createPlummerGrid(zd, N, areaWidth, plummerWidth, plummerMass):\n",
    "    xpos = np.linspace(-areaWidth/2, areaWidth/2, N)\n",
    "    ypos = np.linspace(-areaWidth/2, areaWidth/2, N)\n",
    "\n",
    "    compLensParams = [ ]\n",
    "    Dd = D(zd)\n",
    "    for y in ypos:\n",
    "        for x in xpos:\n",
    "            '''\n",
    "            plummer = lenses.PlummerLens(Dd, { \"width\": plummerWidth, \"mass\": plummerMass})\n",
    "            compLensParams.append({\n",
    "                \"lens\": plummer,\n",
    "                \"factor\": 1,\n",
    "                \"angle\": 0,\n",
    "                \"x\": x,\n",
    "                \"y\": y\n",
    "            })\n",
    "            '''\n",
    "            compLensParams.append({\n",
    "                \"mass\": plummerMass,\n",
    "                \"width\": plummerWidth,\n",
    "                \"x\": x,\n",
    "                \"y\": y\n",
    "            })\n",
    "            \n",
    "    return lenses.MultiplePlummerLens(Dd, compLensParams)\n",
    "\n",
    "def setPlummerWeights(compLens, factors):\n",
    "    Dd = compLens.getLensDistance()\n",
    "    params = compLens.getLensParameters()\n",
    "    \n",
    "    newParams = []\n",
    "    for p, f in zip(params, factors):\n",
    "        p[\"factor\"] = f\n",
    "        newParams.append(p)\n",
    "        \n",
    "    return lenses.CompositeLens(Dd, newParams)"
   ]
  },
  {
   "cell_type": "code",
   "execution_count": 4,
   "metadata": {},
   "outputs": [],
   "source": [
    "'''\n",
    "def getThetas(lens):\n",
    "    srcRadius = 1*ANGLE_ARCSEC\n",
    "    lens.setSourceRedshift(z_s[0])\n",
    "    thetas = []\n",
    "    shapes = []\n",
    "                \n",
    "    imgPlane = lensInfo.getImagePlane()\n",
    "    for i in range(-2, 3):\n",
    "        for j in range(-2, 3):\n",
    "            pos = (i * ANGLE_ARCSEC, j * ANGLE_ARCSEC)\n",
    "            sourceShape = images.CircularSource(pos, srcRadius, fade=True)\n",
    "            shapes.append(sourceShape)\n",
    "\n",
    "    plane = imgPlane.renderImages(shapes)\n",
    "    imgPoints = imgPlane.segment(plane)\n",
    "    imgPoints = np.array([p for part in imgPoints for p in part])\n",
    "    thetas.extend(imgPoints)\n",
    "            \n",
    "    return thetas\n",
    "'''\n",
    "def getThetas(n):\n",
    "    x = np.linspace(-30 * ANGLE_ARCSEC, 30 * ANGLE_ARCSEC, n)\n",
    "    y = np.linspace(-30 * ANGLE_ARCSEC, 30 * ANGLE_ARCSEC, n)\n",
    "    xx, yy = np.meshgrid(x, y)\n",
    "    thetas = np.array([xx.flatten(),yy.flatten()]).T\n",
    "    return thetas\n",
    "\n",
    "def getThetasArcSec(n):\n",
    "    x = np.linspace(-30, 30, n)\n",
    "    y = np.linspace(-30, 30, n)\n",
    "    xx, yy = np.meshgrid(x, y)\n",
    "    thetas = np.array([xx.flatten(),yy.flatten()]).T\n",
    "    return thetas"
   ]
  },
  {
   "cell_type": "markdown",
   "metadata": {},
   "source": [
    "# Print setup to file for CUDA\n",
    "\n",
    "See reference notebook for file structure details"
   ]
  },
  {
   "cell_type": "code",
   "execution_count": 35,
   "metadata": {},
   "outputs": [],
   "source": [
    "def printCuda(lensdata, thetas, name):\n",
    "    fp = open(name + \".txt\", \"w\")\n",
    "    \n",
    "    fp.write(str(ANGLE_ARCSEC) + \"\\n\")\n",
    "\n",
    "    # Lenses\n",
    "    numplanes = len(lensdata)\n",
    "    fp.write(str(numplanes) + '\\n')\n",
    "    for x in lensdata:\n",
    "        fp.write(str(x[1]) + \" \")\n",
    "    fp.write('\\n')\n",
    "    \n",
    "    for x in lensdata:\n",
    "        params = x[0].getLensParameters()\n",
    "        # print(params)\n",
    "        fp.write(str(len(params)) + '\\n')\n",
    "        for l in params:\n",
    "            fp.write(str(l['x']) + \" \")\n",
    "            fp.write(str(l['y']) + \" \")\n",
    "            fp.write(\"5 \")\n",
    "            # p = l['lens'].getLensParameters()\n",
    "            # print(p)\n",
    "        fp.write('\\n')\n",
    "    # fp.write('\\n')\n",
    "    \n",
    "    # Source\n",
    "    fp.write(\"1\\n\")\n",
    "    fp.write(str(z_s[0]) + \" \\n\")\n",
    "    \n",
    "    fp.write(str(len(thetas)) + \"\\n\")\n",
    "    for t in thetas:\n",
    "        fp.write(str(t[0]) + \" \")\n",
    "        fp.write(str(t[1]) + \"\\n\")\n",
    "    # fp.write('\\n')\n",
    "    \n",
    "    for x in lensdata:\n",
    "        params = x[0].getLensParameters()\n",
    "        fp.write(str(len(params)) + '\\n')\n",
    "        for l in params:\n",
    "            fp.write(\"1.0 \")\n",
    "        fp.write('\\n')\n",
    "    \n",
    "    fp.close()"
   ]
  },
  {
   "cell_type": "markdown",
   "metadata": {},
   "source": [
    "# Create test files CUDA\n",
    "\n",
    "The tests used for CUDA. More intensive for scaling test purposes."
   ]
  },
  {
   "cell_type": "code",
   "execution_count": 41,
   "metadata": {},
   "outputs": [
    {
     "data": {
      "text/plain": [
       "'\\nfor t in numthetas[:-1]:\\n    thetas = getThetasArcSec(t)\\n    for s in numlenses:\\n        for plane in numplanes:\\n            lenslist = []\\n            for x in range(plane):\\n                lens = createPlummerGrid(z_d[x], s, 15*ANGLE_ARCSEC, 5*ANGLE_ARCSEC, 1e8*MASS_SUN)\\n                lenslist.append([lens, z_d[x]])\\n            print(\"S: %d; x: %d\" % (s, plane))\\n            printCuda(lenslist, thetas, \"../data/multi_%ds_%d_%d\" % (plane, t, s))\\n'"
      ]
     },
     "execution_count": 41,
     "metadata": {},
     "output_type": "execute_result"
    }
   ],
   "source": [
    "numthetas = [100, 250, 500, 750, 1000, 2500]\n",
    "numlenses = [1, 10, 25,50, 75, 100, 250, 500]\n",
    "numplanes = [1, 2, 4, 8]\n",
    "\n",
    "# Single lens plane\n",
    "'''\n",
    "for t in numthetas:\n",
    "    thetas = getThetasArcSec(t)\n",
    "    for s in numlenses:\n",
    "        lens1 = createPlummerGrid(z_d[0], s, 15*ANGLE_ARCSEC, 5*ANGLE_ARCSEC, 1e8*MASS_SUN)\n",
    "        lensInfo = plotutil.LensInfo(lens=lens1, zs=z_s[0], zd=z_d[0], size=60*ANGLE_ARCSEC)\n",
    "        print(\"S: %d; T: %d\" % (s, len(thetas)))\n",
    "        printCuda([[lens1, z_d[0]]], thetas, \"../data/single_%d_%d\" % (t, s))\n",
    "'''\n",
    "        \n",
    "# Multiplane\n",
    "'''\n",
    "for t in numthetas[:-1]:\n",
    "    thetas = getThetasArcSec(t)\n",
    "    for s in numlenses:\n",
    "        for plane in numplanes:\n",
    "            lenslist = []\n",
    "            for x in range(plane):\n",
    "                lens = createPlummerGrid(z_d[x], s, 15*ANGLE_ARCSEC, 5*ANGLE_ARCSEC, 1e8*MASS_SUN)\n",
    "                lenslist.append([lens, z_d[x]])\n",
    "            print(\"S: %d; x: %d\" % (s, plane))\n",
    "            printCuda(lenslist, thetas, \"../data/multi_%ds_%d_%d\" % (plane, t, s))\n",
    "'''"
   ]
  },
  {
   "cell_type": "markdown",
   "metadata": {},
   "source": [
    "# Single lens plane tests\n",
    "\n",
    "Tests using a single lens and source plane.\n",
    "\n",
    "- 1 lens\n",
    "- 10 * 10 lenses\n",
    "- 25 * 25 lenses\n",
    "- 50 * 50 lenses\n",
    "- 100 * 100 lenses\n",
    "\n",
    "- List of 1 000 000 thetas (grid)"
   ]
  },
  {
   "cell_type": "code",
   "execution_count": 5,
   "metadata": {},
   "outputs": [
    {
     "name": "stdout",
     "output_type": "stream",
     "text": [
      "S: 1; T: 250000\n",
      "4.39 ms ± 12.4 µs per loop (mean ± std. dev. of 7 runs, 100 loops each)\n",
      "S: 10; T: 250000\n",
      "110 ms ± 5.98 µs per loop (mean ± std. dev. of 7 runs, 10 loops each)\n",
      "S: 25; T: 250000\n",
      "679 ms ± 67.1 µs per loop (mean ± std. dev. of 7 runs, 1 loop each)\n",
      "S: 50; T: 250000\n",
      "2.73 s ± 414 µs per loop (mean ± std. dev. of 7 runs, 1 loop each)\n",
      "S: 75; T: 250000\n",
      "6.13 s ± 813 µs per loop (mean ± std. dev. of 7 runs, 1 loop each)\n",
      "S: 100; T: 250000\n",
      "10.9 s ± 679 µs per loop (mean ± std. dev. of 7 runs, 1 loop each)\n",
      "S: 150; T: 250000\n",
      "24.6 s ± 3.19 ms per loop (mean ± std. dev. of 7 runs, 1 loop each)\n",
      "S: 200; T: 250000\n",
      "43.7 s ± 31.1 ms per loop (mean ± std. dev. of 7 runs, 1 loop each)\n"
     ]
    }
   ],
   "source": [
    "Ds = cosm.getAngularDiameterDistance(z_s[0])\n",
    "Dds = cosm.getAngularDiameterDistance(z_d[0], z_s[0])\n",
    "sublenscounts = [1, 10, 25, 50, 75, 100, 150, 200]\n",
    "thetas = getThetas(500)\n",
    "\n",
    "for s in sublenscounts:\n",
    "    lens1 = createPlummerGrid(z_d[0], s, 15*ANGLE_ARCSEC, 5*ANGLE_ARCSEC, 1e8*MASS_SUN)\n",
    "    lensInfo = plotutil.LensInfo(lens=lens1, zs=z_s[0], zd=z_d[0], size=60*ANGLE_ARCSEC)\n",
    "    print(\"S: %d; T: %d\" % (s, len(thetas)))\n",
    "    \n",
    "    %timeit sourceBetas = lens1.traceTheta(Ds, Dds, thetas)\n",
    "    \n",
    "    continue\n",
    "    if s <= 50:\n",
    "        continue\n",
    "    break"
   ]
  },
  {
   "cell_type": "markdown",
   "metadata": {},
   "source": [
    "# Multiplane tests\n",
    "\n",
    "No multicore speedup unfortunately.\n",
    "\n",
    "How to properly run traceTheta, I don't now. Maybe just copying the function from grale slightly modified?"
   ]
  },
  {
   "cell_type": "code",
   "execution_count": 6,
   "metadata": {},
   "outputs": [],
   "source": [
    "def traceTheta(lz, zs, thetas):\n",
    "    \"\"\"For each theta position in `thetas`, calculate the corresponding position\n",
    "    in the source plane. Note that this is all calculated using a single processor\n",
    "    core, no speedup using e.g. OpenMP will be performed.\"\"\"\n",
    "    import copy\n",
    "\n",
    "    cosmology = cosm\n",
    "    sourceRedshift = zs\n",
    "\n",
    "    alphas = { }\n",
    "    T = []\n",
    "\n",
    "    def getAlphas(j):\n",
    "        if j in alphas:\n",
    "            return alphas[j]\n",
    "        a = lz[j][0].getAlphaVector(T[j])\n",
    "        alphas[j] = a\n",
    "        return a\n",
    "\n",
    "    N = len(lz)\n",
    "    for i in range(0, N):\n",
    "\n",
    "        Ti = copy.deepcopy(thetas)\n",
    "        Di = cosmology.getAngularDiameterDistance(lz[i][1])\n",
    "            \n",
    "        for j in range(0, i):\n",
    "            Dji = cosmology.getAngularDiameterDistance(lz[j][1], lz[i][1])\n",
    "            Ti -= Dji/Di * getAlphas(j)\n",
    "        \n",
    "        T.append(Ti)\n",
    "\n",
    "    # Make sure these are cached\n",
    "    getAlphas(N-1)\n",
    "\n",
    "    Ti = copy.deepcopy(thetas)\n",
    "    Di = cosmology.getAngularDiameterDistance(sourceRedshift)\n",
    "    for j in range(0, N):\n",
    "        Dji = cosmology.getAngularDiameterDistance(lz[j][1], sourceRedshift)\n",
    "        Ti -= Dji/Di * alphas[j]\n",
    "\n",
    "    return Ti"
   ]
  },
  {
   "cell_type": "code",
   "execution_count": 8,
   "metadata": {},
   "outputs": [
    {
     "name": "stdout",
     "output_type": "stream",
     "text": [
      "S: 200; x: 1\n",
      "2.73 s ± 939 µs per loop (mean ± std. dev. of 7 runs, 1 loop each)\n",
      "S: 200; x: 2\n",
      "5.46 s ± 1.57 ms per loop (mean ± std. dev. of 7 runs, 1 loop each)\n",
      "S: 200; x: 3\n",
      "8.19 s ± 2.42 ms per loop (mean ± std. dev. of 7 runs, 1 loop each)\n",
      "S: 200; x: 4\n",
      "10.9 s ± 3.59 ms per loop (mean ± std. dev. of 7 runs, 1 loop each)\n",
      "S: 200; x: 8\n",
      "21.9 s ± 5.91 ms per loop (mean ± std. dev. of 7 runs, 1 loop each)\n"
     ]
    }
   ],
   "source": [
    "lensdim = 50\n",
    "thetas = getThetas(500)\n",
    "\n",
    "planes = [1, 2, 3, 4, 8]\n",
    "\n",
    "for plane in planes:\n",
    "    lenslist = []\n",
    "    for x in range(plane):\n",
    "        lens = createPlummerGrid(z_d[x], lensdim, 15*ANGLE_ARCSEC, 5*ANGLE_ARCSEC, 1e8*MASS_SUN)\n",
    "        lenslist.append([lens, z_d[x]])\n",
    "    \n",
    "    print(\"S: %d; x: %d\" % (s, plane))\n",
    "    %timeit traceTheta(lenslist, z_s[0], thetas)\n"
   ]
  },
  {
   "cell_type": "code",
   "execution_count": null,
   "metadata": {},
   "outputs": [],
   "source": []
  }
 ],
 "metadata": {
  "kernelspec": {
   "display_name": "Python 3",
   "language": "python",
   "name": "python3"
  },
  "language_info": {
   "codemirror_mode": {
    "name": "ipython",
    "version": 3
   },
   "file_extension": ".py",
   "mimetype": "text/x-python",
   "name": "python",
   "nbconvert_exporter": "python",
   "pygments_lexer": "ipython3",
   "version": "3.7.2"
  }
 },
 "nbformat": 4,
 "nbformat_minor": 2
}
